{
 "cells": [
  {
   "cell_type": "code",
   "execution_count": 79,
   "id": "3841f6b3",
   "metadata": {},
   "outputs": [],
   "source": [
    "# import packages for use in the program\n",
    "\n",
    "\n",
    "import time, random, csv, pyautogui, pdb, traceback, sys, yaml\n",
    "import pandas as pd\n",
    "import csv\n",
    "from webdriver_manager.chrome import ChromeDriverManager\n",
    "from selenium.webdriver.common.action_chains import ActionChains\n",
    "from selenium.common.exceptions import TimeoutException\n",
    "from selenium.webdriver.chrome.options import Options\n",
    "from selenium.webdriver.common.keys import Keys\n",
    "from selenium.webdriver.common.by import By\n",
    "from selenium.webdriver.support.ui import Select\n",
    "from selenium import webdriver\n",
    "from datetime import date\n",
    "from itertools import product\n",
    "from validate_email import validate_email\n",
    "\n"
   ]
  },
  {
   "cell_type": "code",
   "execution_count": null,
   "id": "c3bc7e4c",
   "metadata": {},
   "outputs": [],
   "source": [
    "\n"
   ]
  },
  {
   "cell_type": "code",
   "execution_count": 80,
   "id": "b19415ab",
   "metadata": {},
   "outputs": [
    {
     "name": "stderr",
     "output_type": "stream",
     "text": [
      "C:\\Users\\MATTWA~1\\AppData\\Local\\Temp/ipykernel_18556/2667015890.py:3: DeprecationWarning: executable_path has been deprecated, please pass in a Service object\n",
      "  driver = webdriver.Chrome(path)\n"
     ]
    }
   ],
   "source": [
    "# load the relevant chrome webdriver\n",
    "path = \"C:\\Program Files (x86)\\chromedriver.exe\"\n",
    "driver = webdriver.Chrome(path)\n"
   ]
  },
  {
   "cell_type": "code",
   "execution_count": 27,
   "id": "190a92ee",
   "metadata": {},
   "outputs": [
    {
     "name": "stderr",
     "output_type": "stream",
     "text": [
      "C:\\Users\\MATTWA~1\\AppData\\Local\\Temp/ipykernel_18556/2378239550.py:3: DeprecationWarning: executable_path has been deprecated, please pass in a Service object\n",
      "  driver = webdriver.Chrome(path)\n"
     ]
    },
    {
     "name": "stdout",
     "output_type": "stream",
     "text": [
      "Please input an integer betweenn 1-25 for the number of pages you want to scrape and apply to: 1\n"
     ]
    }
   ],
   "source": [
    "# load the page\n",
    "path = \"C:\\Program Files (x86)\\chromedriver.exe\"\n",
    "driver = webdriver.Chrome(path)\n",
    "\n",
    "# run the program by functions\n",
    "start_login()\n",
    "job_search()\n",
    "job_scrape()\n",
    "#df_jobs = job_trans()\n",
    "#jobs_list(df_jobs)"
   ]
  },
  {
   "cell_type": "code",
   "execution_count": 81,
   "id": "1e015862",
   "metadata": {},
   "outputs": [
    {
     "name": "stderr",
     "output_type": "stream",
     "text": [
      "C:\\Users\\MATTWA~1\\AppData\\Local\\Temp/ipykernel_18556/1728514710.py:3: DeprecationWarning: executable_path has been deprecated, please pass in a Service object\n",
      "  driver = webdriver.Chrome(path)\n"
     ]
    }
   ],
   "source": [
    "# load the relevant chrome webdriver\n",
    "path = \"C:\\Program Files (x86)\\chromedriver.exe\"\n",
    "driver = webdriver.Chrome(path)\n",
    "\n",
    "# login to linkedIn\n",
    "start_login()"
   ]
  },
  {
   "cell_type": "code",
   "execution_count": 82,
   "id": "d86df7ae",
   "metadata": {},
   "outputs": [],
   "source": [
    "# search for jobs given user input\n",
    "\n",
    "job_search()\n",
    "\n"
   ]
  },
  {
   "cell_type": "code",
   "execution_count": 84,
   "id": "1924bb77",
   "metadata": {},
   "outputs": [
    {
     "name": "stderr",
     "output_type": "stream",
     "text": [
      "C:\\Users\\MATTWA~1\\AppData\\Local\\Temp/ipykernel_18556/3946660753.py:8: DeprecationWarning: find_elements_by_class_name is deprecated. Please use find_elements(by=By.CLASS_NAME, value=name) instead\n",
      "  job_list = driver.find_elements_by_class_name('jobs-search-results__list')[0].find_elements_by_class_name('jobs-search-results__list-item')\n",
      "C:\\Users\\MATTWA~1\\AppData\\Local\\Temp/ipykernel_18556/3946660753.py:21: DeprecationWarning: find_elements_by_class_name is deprecated. Please use find_elements(by=By.CLASS_NAME, value=name) instead\n",
      "  job_list = driver.find_elements_by_class_name('jobs-search-results__list')[0].find_elements_by_class_name('jobs-search-results__list-item')\n"
     ]
    },
    {
     "name": "stdout",
     "output_type": "stream",
     "text": [
      "['CDL Class A OTR Driver', 'The Citizens Group', 'United States', 'Easy Apply', 'https://www.linkedin.com/jobs/view/2939902996/']\n",
      "['Senior Manager, Driver Growth Marketing', 'DoorDash', 'United States', 'Easy Apply', 'https://www.linkedin.com/jobs/view/2967859358/']\n",
      "['Driver Recruiter', 'KGTiger', 'United States', 'Easy Apply', 'https://www.linkedin.com/jobs/view/2964605330/']\n",
      "['Truck Driver (Independent Contractor)', 'WEL Companies, Inc', 'Oklahoma, United States', 'Easy Apply', 'https://www.linkedin.com/jobs/view/2894149738/']\n",
      "['Delivery Driver', 'Sonata Hospice Riverside', 'San Diego, CA', 'Easy Apply', 'https://www.linkedin.com/jobs/view/2976709113/']\n",
      "['Manager, Driver Onboarding and Conversion Ops, International', 'DoorDash', 'United States', 'Easy Apply', 'https://www.linkedin.com/jobs/view/2964665872/']\n",
      "['Remote Environmental Driver Specialist III – SPak Retail CDL B', 'Harsco Corporation', 'Las Vegas, NV', 'Easy Apply', 'https://www.linkedin.com/jobs/view/2357229513/']\n",
      "['CDL Driver', 'Crawford Thomas Recruiting', 'Chicopee, MA', 'Easy Apply', 'https://www.linkedin.com/jobs/view/2987039748/']\n",
      "['Driver Recruiter - Top Earners make $80,000+', 'Roehl Transport', 'Greater Chicago Area', 'Easy Apply', 'https://www.linkedin.com/jobs/view/2973701246/']\n",
      "['Kids Transportation Driver', 'Karriage', 'Chicago Heights, IL', 'Easy Apply', 'https://www.linkedin.com/jobs/view/2977227893/']\n",
      "['Package Delivery Driver Flexible Schedule', 'San Diego Mesa College', 'United States', 'Easy Apply', 'https://www.linkedin.com/jobs/view/2968447228/']\n",
      "['Intermodal Dispatcher', 'Ravan Transit LLC', 'Massachusetts, United States', 'Easy Apply', 'https://www.linkedin.com/jobs/view/2978442354/']\n",
      "['Truck Driver', 'Direct Couriers Warehousing & Logistics', 'United States', 'Easy Apply', 'https://www.linkedin.com/jobs/view/2979324392/']\n",
      "['Driver for Seniors', 'Senior Ride Nashville', 'Tennessee, United States', 'Easy Apply', 'https://www.linkedin.com/jobs/view/2938258151/']\n",
      "['Truck Driver', 'Sam Buckner Trucking', 'United States', 'Easy Apply', 'https://www.linkedin.com/jobs/view/2978706767/']\n",
      "['Breeze Airways Flight Attendant', 'Breeze Airways™', 'United States', 'Easy Apply', 'https://www.linkedin.com/jobs/view/2972531446/']\n",
      "['Real Estate Driver', 'Yellowbird Enterprises', 'Florida, United States', 'Easy Apply', 'https://www.linkedin.com/jobs/view/2920082472/']\n",
      "['Class B or C Passenger endorsement drivers for corporate client’s', 'A Touch of Class Transportation, Inc', 'United States', 'Easy Apply', 'https://www.linkedin.com/jobs/view/2952574437/']\n",
      "['Delivery Driver', 'Snap Delivered', 'United States', 'Easy Apply', 'https://www.linkedin.com/jobs/view/2948657374/']\n",
      "['Steering Hand', 'Horizontal Technology, Inc.', 'United States', 'Easy Apply', 'https://www.linkedin.com/jobs/view/2964171224/']\n",
      "['Driver', 'FURE Technologies, Inc.', 'Greater Philadelphia', 'Easy Apply', 'https://www.linkedin.com/jobs/view/2951111547/']\n",
      "['Truck Driver', 'Centralized Professional Component', 'Los Angeles Metropolitan Area', 'Easy Apply', 'https://www.linkedin.com/jobs/view/2942900786/']\n",
      "['Drivers and Movers', 'TATE THE GREAT MOVING COMPANY, LLC', 'United States', 'Easy Apply', 'https://www.linkedin.com/jobs/view/2976198314/']\n",
      "['Delivery Driver', 'Guys With Trucks, Inc', 'Greater Houston', 'Easy Apply', 'https://www.linkedin.com/jobs/view/2961635945/']\n",
      "['Truck Driver', 'DeAngelo Contracting Services', 'United States', 'Easy Apply', 'https://www.linkedin.com/jobs/view/2965172784/']\n"
     ]
    }
   ],
   "source": [
    "# scrape information from x poages of jobs\n",
    "\n",
    "get_jobs()"
   ]
  },
  {
   "cell_type": "code",
   "execution_count": null,
   "id": "d11215fd",
   "metadata": {},
   "outputs": [],
   "source": []
  },
  {
   "cell_type": "code",
   "execution_count": null,
   "id": "f8d24a81",
   "metadata": {},
   "outputs": [],
   "source": []
  },
  {
   "cell_type": "code",
   "execution_count": null,
   "id": "7884f3eb",
   "metadata": {},
   "outputs": [],
   "source": []
  },
  {
   "cell_type": "code",
   "execution_count": 25,
   "id": "fafb55e2",
   "metadata": {},
   "outputs": [],
   "source": [
    "# set up the browser--navigate to linkedin and log in -- starts from an opened webdriver\n",
    "def start_login():\n",
    "    \n",
    "    \n",
    "    # navigate to linked in\n",
    "    try:\n",
    "        driver.get(\"https://www.linkedin.com/login\")\n",
    "    \n",
    "    \n",
    "    # login\n",
    "        driver.find_element(By.ID, \"username\").send_keys(\"mwarden78@gmail.com\")\n",
    "        driver.find_element(By.ID, \"password\").send_keys(\"Mgawmgaw17\")\n",
    "        driver.find_element(By.CSS_SELECTOR, \".btn__primary--large\").click()\n",
    "        driver.get(\"https://www.linkedin.com/jobs/\")\n",
    "    except:\n",
    "        print(\"Login already completed or failed\")"
   ]
  },
  {
   "cell_type": "code",
   "execution_count": 20,
   "id": "b6d8f532",
   "metadata": {},
   "outputs": [],
   "source": [
    "# choose the job parameters--this starts from the basic linkedin jobs page\n",
    "\n",
    "def job_search():\n",
    "    placeholder = \"Driver\"\n",
    "    \n",
    "    # clear the previous search terms from the keyword and location spots\n",
    "    try:\n",
    "        driver.find_element(By.XPATH, \"/html/body/div[5]/header/div/div/div/div[2]/div[1]/div/div/input[1]\").clear()\n",
    "        driver.find_element(By.XPATH, \"/html/body/div[5]/header/div/div/div/div[2]/div[2]/div/div/input[1]\").clear()\n",
    "    \n",
    "    \n",
    "    # enter the keywords and locations to search for...\n",
    "\n",
    "        driver.find_element(By.XPATH, \"/html/body/div[5]/header/div/div/div/div[2]/div[1]/div/div/input[1]\").send_keys(placeholder)\n",
    "        driver.find_element(By.XPATH, \"/html/body/div[5]/header/div/div/div/div[2]/div[2]/div/div/input[1]\").send_keys(\"Remote\")\n",
    "    \n",
    "    # click on the search button\n",
    "        driver.find_element(By.XPATH, \"/html/body/div[5]/header/div/div/div/div[2]/button[1]\").click()    \n",
    "    \n",
    "    # turn the radio button for easy apply on\n",
    "        driver.maximize_window()\n",
    "        time.sleep(random.uniform(1, 3))\n",
    "        driver.find_element(By.XPATH,\"/html/body/div[5]/div[3]/div[3]/section/div/div/div/ul/li[8]/div/button\").click()\n",
    "    except:\n",
    "        pass\n",
    "    \n"
   ]
  },
  {
   "cell_type": "code",
   "execution_count": 31,
   "id": "993af145",
   "metadata": {},
   "outputs": [
    {
     "name": "stdout",
     "output_type": "stream",
     "text": [
      "Please input an integer betweenn 1-25 for the number of pages you want to scrape and apply to: 1\n",
      "Success!\n"
     ]
    },
    {
     "data": {
      "text/plain": [
       "1"
      ]
     },
     "execution_count": 31,
     "metadata": {},
     "output_type": "execute_result"
    }
   ],
   "source": [
    "# function to take user's input for the number of linkedin pages to scrape/apply to \n",
    "\n",
    "def get_pages():\n",
    "    \n",
    "    while True:\n",
    "        page_num = input(\"Please input an integer betweenn 1-25 for the number of pages you want to scrape and apply to: \")\n",
    "        try:\n",
    "            page_num = int(page_num)\n",
    "            if page_num >= 1 and page_num <= 25:\n",
    "                print(\"Success!\")\n",
    "                return page_num\n",
    "        except:\n",
    "            print(\"Invalid input: you must input an integer between 1-25\")\n",
    "            continue\n",
    "get_pages()"
   ]
  },
  {
   "cell_type": "code",
   "execution_count": 61,
   "id": "08e222e4",
   "metadata": {},
   "outputs": [],
   "source": [
    "def scroll_slow(self, scrollable_element, start=0, end=3600, step=100, reverse=False):\n",
    "    if reverse:\n",
    "        start, end = end, start\n",
    "        step = -step\n",
    "\n",
    "    for i in range(start, end, step):\n",
    "        driver.execute_script(\"arguments[0].scrollTo(0, {})\".format(i), scrollable_element)\n",
    "        time.sleep(random.uniform(1.0, 2))\n"
   ]
  },
  {
   "cell_type": "code",
   "execution_count": 83,
   "id": "c92e5235",
   "metadata": {},
   "outputs": [],
   "source": [
    "# scrape information for jobs on the page, and write to a csv -- this occurs once jobs have already been searched\n",
    "def get_jobs():\n",
    "    # try to move through the list of jobs.. \n",
    "    driver.execute_script(\"window.scrollTo(0, 220)\")\n",
    "    \n",
    "     # scroll to bottom and back up...\n",
    "    try:\n",
    "        job_list = driver.find_elements_by_class_name('jobs-search-results__list')[0].find_elements_by_class_name('jobs-search-results__list-item')\n",
    "        actions = ActionChains(driver)    \n",
    "        bottom = len(job_list) - 1\n",
    "        actions.move_to_element(job_list[bottom]).perform()\n",
    "    except:\n",
    "        pass\n",
    "    \n",
    "    \n",
    "        \n",
    "\n",
    "            \n",
    "    \n",
    "    # get the full list of jobs from the page... \n",
    "    job_list = driver.find_elements_by_class_name('jobs-search-results__list')[0].find_elements_by_class_name('jobs-search-results__list-item')\n",
    "    \n",
    "    \n",
    "    for job_tile in job_list:\n",
    "            # set the variables to placeholders\n",
    "            job_title, company, job_location, apply_method, link = \"\", \"\", \"\", \"\", \"\"\n",
    "            \n",
    "            # try to grab the job title // scroll to it... \n",
    "            try:\n",
    "                actions = ActionChains(driver)\n",
    "                actions.move_to_element(job_tile).perform()\n",
    "                job_title = job_tile.find_element_by_class_name('job-card-list__title').text\n",
    "                link = job_tile.find_element_by_class_name('job-card-list__title').get_attribute('href').split('?')[0]\n",
    "                \n",
    "            except:\n",
    "                pass\n",
    "            \n",
    "            # try to grab the company\n",
    "            try:\n",
    "                company = job_tile.find_element_by_class_name('job-card-container__company-name').text\n",
    "            except:\n",
    "                pass\n",
    "            \n",
    "            # try to grab the location\n",
    "            try:\n",
    "                job_location = job_tile.find_element_by_class_name('job-card-container__metadata-item').text\n",
    "            except:\n",
    "                pass\n",
    "            \n",
    "            # try to grab the apply method\n",
    "            try:\n",
    "                apply_method = job_tile.find_element_by_class_name('job-card-container__apply-method').text\n",
    "            except:\n",
    "                pass\n",
    "            \n",
    "            # create a list of the elements found and print them to a CSV file for later use.. \n",
    "            J_list = [job_title, company, job_location, apply_method, link]\n",
    "            print(J_list)\n",
    "            \n",
    "            #write to the CSV\n",
    "            with open(r'job_list.csv', 'a', encoding='utf-8', newline = \"\") as f:\n",
    "                writer = csv.writer(f)\n",
    "                writer.writerow(J_list)"
   ]
  },
  {
   "cell_type": "code",
   "execution_count": 78,
   "id": "822f29f4",
   "metadata": {},
   "outputs": [
    {
     "name": "stderr",
     "output_type": "stream",
     "text": [
      "C:\\Users\\MATTWA~1\\AppData\\Local\\Temp/ipykernel_18556/3635687346.py:1: DeprecationWarning: find_elements_by_class_name is deprecated. Please use find_elements(by=By.CLASS_NAME, value=name) instead\n",
      "  job_list = driver.find_elements_by_class_name('jobs-search-results__list')[0].find_elements_by_class_name('jobs-search-results__list-item')\n"
     ]
    },
    {
     "name": "stdout",
     "output_type": "stream",
     "text": [
      "25\n"
     ]
    }
   ],
   "source": [
    "job_list = driver.find_elements_by_class_name('jobs-search-results__list')[0].find_elements_by_class_name('jobs-search-results__list-item')\n",
    "actions = ActionChains(driver)\n",
    "print(len(job_list))\n",
    "actions.move_to_element(job_list[24]).perform()"
   ]
  },
  {
   "cell_type": "code",
   "execution_count": 58,
   "id": "d903be8f",
   "metadata": {},
   "outputs": [
    {
     "name": "stdout",
     "output_type": "stream",
     "text": [
      "Please input an integer betweenn 1-25 for the number of pages you want to scrape and apply to: 3\n",
      "Success!\n"
     ]
    },
    {
     "name": "stderr",
     "output_type": "stream",
     "text": [
      "C:\\Users\\MATTWA~1\\AppData\\Local\\Temp/ipykernel_18556/3657945919.py:6: DeprecationWarning: find_element_by_class_name is deprecated. Please use find_element(by=By.CLASS_NAME, value=name) instead\n",
      "  job_results = driver.find_element_by_class_name(\"jobs-search-results\")\n",
      "C:\\Users\\MATTWA~1\\AppData\\Local\\Temp/ipykernel_18556/3657945919.py:18: DeprecationWarning: find_elements_by_class_name is deprecated. Please use find_elements(by=By.CLASS_NAME, value=name) instead\n",
      "  job_list = driver.find_elements_by_class_name('jobs-search-results__list')[0].find_elements_by_class_name('jobs-search-results__list-item')\n"
     ]
    },
    {
     "name": "stdout",
     "output_type": "stream",
     "text": [
      "['CDL Driver', 'Crawford Thomas Recruiting', 'Chicopee, MA', 'Easy Apply', 'https://www.linkedin.com/jobs/view/2987039748/']\n",
      "['CDL Class A OTR Driver', 'The Citizens Group', 'United States', 'Easy Apply', 'https://www.linkedin.com/jobs/view/2939902996/']\n",
      "['Remote Environmental Driver Specialist III – SPak Retail CDL B', 'Harsco Corporation', 'Las Vegas, NV', 'Easy Apply', 'https://www.linkedin.com/jobs/view/2357229513/']\n",
      "['Senior Manager, Driver Growth Marketing', 'DoorDash', 'United States', 'Easy Apply', 'https://www.linkedin.com/jobs/view/2967859358/']\n",
      "['Delivery Driver', 'Sonata Hospice Riverside', 'San Diego, CA', 'Easy Apply', 'https://www.linkedin.com/jobs/view/2976709113/']\n",
      "['Manager, Driver Onboarding and Conversion Ops, International', 'DoorDash', 'United States', 'Easy Apply', 'https://www.linkedin.com/jobs/view/2964665872/']\n",
      "['Driver Recruiter', 'KGTiger', 'United States', 'Easy Apply', 'https://www.linkedin.com/jobs/view/2964605330/']\n",
      "['Truck Driver (Independent Contractor)', 'WEL Companies, Inc', 'Oklahoma, United States', 'Easy Apply', 'https://www.linkedin.com/jobs/view/2894149738/']\n",
      "['Driver Recruiter - Top Earners make $80,000+', 'Roehl Transport', 'Greater Chicago Area', 'Easy Apply', 'https://www.linkedin.com/jobs/view/2973701246/']\n",
      "['RFID Tagging Specialist', 'Strategic Retail Partners', 'United States', 'Easy Apply', 'https://www.linkedin.com/jobs/view/2978254218/']\n",
      "['Kids Transportation Driver', 'Karriage', 'Chicago Heights, IL', 'Easy Apply', 'https://www.linkedin.com/jobs/view/2977227893/']\n",
      "['Package Delivery Driver Flexible Schedule', 'San Diego Mesa College', 'United States', 'Easy Apply', 'https://www.linkedin.com/jobs/view/2968447228/']\n",
      "['Intermodal Dispatcher', 'Ravan Transit LLC', 'Massachusetts, United States', 'Easy Apply', 'https://www.linkedin.com/jobs/view/2978442354/']\n",
      "['Truck Driver', 'Direct Couriers Warehousing & Logistics', 'United States', 'Easy Apply', 'https://www.linkedin.com/jobs/view/2979324392/']\n",
      "['Driver for Seniors', 'Senior Ride Nashville', 'Tennessee, United States', 'Easy Apply', 'https://www.linkedin.com/jobs/view/2938258151/']\n",
      "['Truck Driver', 'Sam Buckner Trucking', 'United States', 'Easy Apply', 'https://www.linkedin.com/jobs/view/2978706767/']\n",
      "['Breeze Airways Flight Attendant', 'Breeze Airways™', 'United States', 'Easy Apply', 'https://www.linkedin.com/jobs/view/2972531446/']\n",
      "['Real Estate Driver', 'Yellowbird Enterprises', 'Florida, United States', 'Easy Apply', 'https://www.linkedin.com/jobs/view/2920082472/']\n",
      "['Class B or C Passenger endorsement drivers for corporate client’s', 'A Touch of Class Transportation, Inc', 'United States', 'Easy Apply', 'https://www.linkedin.com/jobs/view/2952574437/']\n",
      "['Delivery Driver', 'Snap Delivered', 'United States', 'Easy Apply', 'https://www.linkedin.com/jobs/view/2948657374/']\n",
      "['Steering Hand', 'Horizontal Technology, Inc.', 'United States', 'Easy Apply', 'https://www.linkedin.com/jobs/view/2964171224/']\n",
      "['Driver', 'FURE Technologies, Inc.', 'Greater Philadelphia', 'Easy Apply', 'https://www.linkedin.com/jobs/view/2951111547/']\n",
      "['Truck Driver', 'Centralized Professional Component', 'Los Angeles Metropolitan Area', 'Easy Apply', 'https://www.linkedin.com/jobs/view/2942900786/']\n",
      "['Delivery Driver', 'Guys With Trucks, Inc', 'Greater Houston', 'Easy Apply', 'https://www.linkedin.com/jobs/view/2961635945/']\n",
      "['Drivers and Movers', 'TATE THE GREAT MOVING COMPANY, LLC', 'United States', 'Easy Apply', 'https://www.linkedin.com/jobs/view/2976198314/']\n",
      "[aria-label= 'Page 2']\n"
     ]
    },
    {
     "name": "stderr",
     "output_type": "stream",
     "text": [
      "C:\\Users\\MATTWA~1\\AppData\\Local\\Temp/ipykernel_18556/447527821.py:15: DeprecationWarning: find_element_by_css_selector is deprecated. Please use find_element(by=By.CSS_SELECTOR, value=css_selector) instead\n",
      "  elem = driver.find_element_by_css_selector(text)\n",
      "C:\\Users\\MATTWA~1\\AppData\\Local\\Temp/ipykernel_18556/447527821.py:19: DeprecationWarning: find_element_by_css_selector is deprecated. Please use find_element(by=By.CSS_SELECTOR, value=css_selector) instead\n",
      "  driver.find_element_by_css_selector(text).click()\n"
     ]
    },
    {
     "name": "stdout",
     "output_type": "stream",
     "text": [
      "['Truck Driver (Independent Contractor)', 'WEL Companies, Inc', 'Georgia, United States', 'Easy Apply', 'https://www.linkedin.com/jobs/view/2894144997/']\n",
      "['Truck Driver', 'DeAngelo Contracting Services', 'United States', 'Easy Apply', 'https://www.linkedin.com/jobs/view/2965172784/']\n",
      "['Truck Driver', 'Load Hunter Logistics, LLC.', 'United States', 'Easy Apply', 'https://www.linkedin.com/jobs/view/2953295621/']\n",
      "['Truck Driver', 'Keeping the Distance Transport, LLC', 'Florida, United States', 'Easy Apply', 'https://www.linkedin.com/jobs/view/2981734623/']\n",
      "['Truck Driver', 'PAM Transport', 'United States', 'Easy Apply', 'https://www.linkedin.com/jobs/view/2973532932/']\n",
      "['Driver Settlements Specialist', 'Beemac Trucking', 'United States', 'Easy Apply', 'https://www.linkedin.com/jobs/view/2962502626/']\n",
      "['Delivery Driver', 'San Diego Cannabis Delivery Service', 'San Diego Metropolitan Area', 'Easy Apply', 'https://www.linkedin.com/jobs/view/2927514516/']\n",
      "['Driver', 'Good times taxi and delivery service', 'United States', 'Easy Apply', 'https://www.linkedin.com/jobs/view/2950820079/']\n",
      "['Windows Device Driver Developers', 'Analytic Concepts', 'United States', 'Easy Apply', 'https://www.linkedin.com/jobs/view/2952580109/']\n",
      "['Truck Driver', 'ABR LOGISTICS', 'Avondale, AZ', 'Easy Apply', 'https://www.linkedin.com/jobs/view/2976765402/']\n",
      "['Kosher Meals On Wheels Delivery Driver Volunteer', 'Jewish Family Services of Greater Harrisburg', 'Pennsylvania, United States', 'Easy Apply', 'https://www.linkedin.com/jobs/view/2961463488/']\n",
      "['Wyth Rideshare Driver', 'WYTH', 'Tuscaloosa, AL', 'Easy Apply', 'https://www.linkedin.com/jobs/view/2964412171/']\n",
      "['Bail Bondsman', 'Liberty Bail Bonds Inc.', 'Greater Minneapolis-St. Paul Area', 'Easy Apply', 'https://www.linkedin.com/jobs/view/2944242426/']\n",
      "['Pro Baseball Team Bus Driver', 'Empire Pro Baseball League', 'New York, United States', 'Easy Apply', 'https://www.linkedin.com/jobs/view/2896093569/']\n",
      "['Truck Driver', 'Expeditiously Trucking', 'Dallas, TX', 'Easy Apply', 'https://www.linkedin.com/jobs/view/2924914894/']\n",
      "['Truck Driver', 'Famyard Dispatching And Logistics', 'New York City Metropolitan Area', 'Easy Apply', 'https://www.linkedin.com/jobs/view/2943841591/']\n",
      "['', '', '', '', '']\n",
      "['', '', '', '', '']\n",
      "['', '', '', '', '']\n",
      "['', '', '', '', '']\n",
      "['', '', '', '', '']\n",
      "['', '', '', '', '']\n",
      "['', '', '', '', '']\n",
      "['', '', '', '', '']\n",
      "['', '', '', '', '']\n",
      "[aria-label= 'Page 3']\n",
      "['Night Patroller', 'Metro Signs & Lighting', 'Grand Rapids Metropolitan Area', 'Easy Apply', 'https://www.linkedin.com/jobs/view/2946268762/']\n",
      "['Delivery Driver', 'Braxx Logistics', 'McDonough, GA', 'Easy Apply', 'https://www.linkedin.com/jobs/view/2952325765/']\n",
      "['Log Truck Driver', 'LARSON LOG TRUCKING, LLC', 'United States', 'Easy Apply', 'https://www.linkedin.com/jobs/view/2944349687/']\n",
      "['Truck Driver', 'WATT & STEWART COMMODITIES INC', 'Pleasanton, TX', 'Easy Apply', 'https://www.linkedin.com/jobs/view/2939687418/']\n",
      "['Driver', 'R.C Logistics LLC', 'Georgia, United States', 'Easy Apply', 'https://www.linkedin.com/jobs/view/2942604337/']\n",
      "['Car Haul Driver - Fort Wayne, IN - CDL Required', 'TopFlite Recruiting', 'United States', 'Easy Apply', 'https://www.linkedin.com/jobs/view/2977274728/']\n",
      "['Driver', 'Enloe Enterprise', 'Missouri, United States', 'Easy Apply', 'https://www.linkedin.com/jobs/view/2920474450/']\n",
      "['Truck Driver', 'Self-Employed', 'Houston, TX', 'Easy Apply', 'https://www.linkedin.com/jobs/view/2952733873/']\n",
      "['Truck Driver (Independent Contractor)', 'WEL Companies, Inc', 'Illinois, United States', 'Easy Apply', 'https://www.linkedin.com/jobs/view/2902778316/']\n",
      "['Van Driver', 'NEMT LLC', 'Springfield, MO', 'Easy Apply', 'https://www.linkedin.com/jobs/view/1917853451/']\n",
      "['Delivery Driver', 'Counter-Form LLC', 'Marshfield, WI', 'Easy Apply', 'https://www.linkedin.com/jobs/view/2973772469/']\n",
      "['Delivery Driver Urgently Needed!', 'Tostado Resources', 'Columbus, OH', 'Easy Apply', 'https://www.linkedin.com/jobs/view/2940582497/']\n",
      "['Breeze Embark Pilot Program', 'Breeze Airways™', 'United States', 'Easy Apply', 'https://www.linkedin.com/jobs/view/2969525740/']\n",
      "['Truck Driver', 'READY NOW LOGISTICS, LLC', 'Atlanta Metropolitan Area', 'Easy Apply', 'https://www.linkedin.com/jobs/view/2970855217/']\n",
      "['Truck Driver', 'Dragon Assassins, LLC', 'United States', 'Easy Apply', 'https://www.linkedin.com/jobs/view/2944312588/']\n",
      "['Drivers Wanted- Class A', 'National Van Lines', 'United States', 'Easy Apply', 'https://www.linkedin.com/jobs/view/40086754/']\n",
      "['', '', '', '', '']\n",
      "['', '', '', '', '']\n",
      "['', '', '', '', '']\n",
      "['', '', '', '', '']\n",
      "['', '', '', '', '']\n",
      "['', '', '', '', '']\n",
      "['', '', '', '', '']\n",
      "['', '', '', '', '']\n",
      "['', '', '', '', '']\n",
      "[aria-label= 'Page 4']\n"
     ]
    }
   ],
   "source": [
    "# move through X pages of linkedin results--uses get_jobs() and a loop for pages -- occurs after search\n",
    "\n",
    "def job_scrape():\n",
    "    # iterate over the first x pages of results...\n",
    "    x = get_pages()\n",
    "    for i in range(1, x + 1):\n",
    "        # run the job-scraping program\n",
    "        get_jobs()\n",
    "        # find the next page button\n",
    "        text = f\"[aria-label= 'Page {i + 1}']\"\n",
    "        print(text)\n",
    "        \n",
    "        # move to the next page--scroll down\n",
    "        actions = ActionChains(driver)\n",
    "        elem = driver.find_element_by_css_selector(text)\n",
    "        actions.move_to_element(elem).perform()\n",
    "        \n",
    "        # and click the next button\n",
    "        driver.find_element_by_css_selector(text).click()\n",
    "        \n",
    "        # wait 1 second\n",
    "        time.sleep(random.uniform(1, 3))\n",
    "job_scrape()"
   ]
  },
  {
   "cell_type": "code",
   "execution_count": 15,
   "id": "f784b123",
   "metadata": {},
   "outputs": [],
   "source": [
    "# read the scraped file of csvs\n",
    "def job_read():\n",
    "    df_J = pd.read_csv(r'C:\\Users\\Matt Warden\\My Python Stuff\\13-Web-Scraping\\name.csv', encoding = \"utf-8\")\n",
    "    return df_J\n",
    "\n",
    "# add a column titled \"applied\" that will later be marked\n",
    "def job_trans():\n",
    "    df_jobs = job_read()\n",
    "    df_jobs['Applied']='NO'\n",
    "    return(df_jobs)\n",
    "\n",
    "# navigate through the jobs\n",
    "def jobs_list(df_jobs):\n",
    "    for i in range(0, df_jobs[\"Link\"].size):\n",
    "        driver.get(df_jobs[\"Link\"][i])\n",
    "        jobs_apply()\n",
    "        time.sleep(random.uniform(1, 3))\n",
    "\n",
    "def jobs_apply():\n",
    "    pass"
   ]
  },
  {
   "cell_type": "code",
   "execution_count": 15,
   "id": "a7028b68",
   "metadata": {},
   "outputs": [],
   "source": []
  },
  {
   "cell_type": "code",
   "execution_count": null,
   "id": "c71e62e2",
   "metadata": {},
   "outputs": [],
   "source": []
  },
  {
   "cell_type": "code",
   "execution_count": null,
   "id": "6a779fa1",
   "metadata": {},
   "outputs": [],
   "source": []
  },
  {
   "cell_type": "code",
   "execution_count": null,
   "id": "9af14d43",
   "metadata": {},
   "outputs": [],
   "source": []
  }
 ],
 "metadata": {
  "kernelspec": {
   "display_name": "Python 3 (ipykernel)",
   "language": "python",
   "name": "python3"
  },
  "language_info": {
   "codemirror_mode": {
    "name": "ipython",
    "version": 3
   },
   "file_extension": ".py",
   "mimetype": "text/x-python",
   "name": "python",
   "nbconvert_exporter": "python",
   "pygments_lexer": "ipython3",
   "version": "3.9.7"
  }
 },
 "nbformat": 4,
 "nbformat_minor": 5
}
